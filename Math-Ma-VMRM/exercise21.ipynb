{
 "cells": [
  {
   "cell_type": "markdown",
   "metadata": {},
   "source": [
    "# Exercise 21\n",
    "![Aufgabetext](exercise21.jpg)\n",
    "\n",
    "Wir wollen die einfachen Methoden ausprobieren. Dazu betrachten wir die zwei Covariaten: den Fahrzeugtyp und die Altersgruppe (in dieser Reihenfolge, d.h. $I=3$ und $J=4$). Die jeweiligen Schadenshöhen $S_{ij}$ können der Aufgabe entnommen werden. Da nichts anderes angegeben ist, nehmen wir $v_{ij} = 1$ für alle $i \\in [I]$ und alle $j \\in [J]$ an. Wie in der Vorlesung sei $\\mathbb E[X_{ij}] = v_{ij} \\mu \\chi_{1i} \\chi_{2j}$. \n",
    "\tUm am Ende eine eindeutige Lösung zu erzwingen, setzen wir weiter $\\mu = 1 = \\chi_{11}$. Es verbleiben also $\\chi_{ij}$ für $i = 2, 3$ und $j = 1,2,3,4$ zubestimmen. "
   ]
  },
  {
   "cell_type": "markdown",
   "metadata": {},
   "source": [
    "## Methode von Bailey und Simons\n",
    "\n",
    "Gemäß der Methode von Bailey und Simons gilt es \n",
    "\\begin{equation*}\n",
    "    X^2 = \\sum_{i=1}^{I} \\sum_{j=1}^{J} \\frac{\\left( S_{ij} - v_{ij} \\mu \\chi_{1i} \\chi_{2j} \\right)^2}{v_{ij} \\mu \\chi_{1i} \\chi_{2j}}\n",
    "    = \\sum_{i=1}^{I} \\sum_{j=1}^{J} \\frac{\\left(S_{ij} - \\chi_{1i} \\chi_{2j}\\right)^2}{\\chi_{1i} \\chi_{2j}}\n",
    "\\end{equation*}\n",
    "zu minimieren.\n",
    "Wir nutzen die notwendige Optimalitätsbedingung erster Ordnung, um einen Minimierer zu finden.\n",
    "Es gilt\n",
    "\\begin{equation*}\n",
    "    \\begin{aligned}\n",
    "        \\frac{\\partial}{\\partial \\chi_{1i}} X^2 \n",
    "        &= \\sum_{j=1}^{J}  \\frac{-2 \\left( S_{ij} - \\chi_{1i} \\chi_{2j}\\right) \\chi_{1i} \\chi_{2j}^2 - \\left(S_{ij} - \\chi_{1i} \\chi_{2j}\\right)^2 \\chi_{2j}}{\\left(\\chi_{1i} \\chi_{2j}\\right)^2} \\\\\n",
    "         &= \\sum_{j=1}^{J}  \\frac{-2 \\left(S_{ij} - \\chi_{1i} \\chi_{2j}\\right) \\chi_{1i} \\chi_{2j} - \\left(S_{ij} - \\chi_{1i} \\chi_{2j}\\right)^2 }{\\chi_{1i}^2 \\chi_{2j}} \\\\\n",
    "        &= \\sum_{j=1}^{J}  \\frac{-2 S_{ij} \\chi_{1i} \\chi_{2j} + 2 \\chi_{1i}^2 \\chi_{2j}^2 - S_{ij}^2 + 2S_{ij} \\chi_{1i} \\chi_{2j} - \\chi_{1i}^2 \\chi_{2j}^2}{\\chi_{1i}^2 \\chi_{2j}} \\\\\n",
    "        &= \\sum_{j=1}^{J}  \\frac{\\chi_{1i}^2 \\chi_{2j}^2 - S_{ij}^2}{\\chi_{1i}^2 \\chi_{2j}} \\\\\n",
    "        &= \\sum_{j=1}^{J} \\chi_{2j} - \\frac{1}{\\chi_{1i}^2} \\sum_{j=1}^{J} \\frac{S_{ij}^2}{\\chi_{2j}} \n",
    "    \\end{aligned}\n",
    "\\end{equation*}\n",
    "und somit erhalten wir durch $\\frac{\\partial}{\\partial \\chi_{1i}} X^2 = 0$ einen Schätzer für $\\chi_{1i}$ für $i \\in \\{1,2\\}$ und analog Schätzer für $\\chi_{2j}$ für alle $j \\in \\{1, \\dots, 4\\}$:\n",
    "\\begin{equation*}\n",
    "    \\hat{\\chi}_{1i} = \\sqrt{ \\frac{\\sum_{j=1}^{J} \\frac{S_{ij}^2}{\\chi_{2j}}}{\\sum_{j=1}^{J} \\chi_{2j}} } \n",
    "    \\quad \\text{und} \\quad\n",
    "    \\hat{\\chi}_{2j} = \\sqrt{ \\frac{\\sum_{j=1}^{J} \\frac{S_{ij}^2}{\\chi_{1i}}}{\\sum_{j=1}^{J} \\chi_{1i}} }\n",
    "    .\n",
    "\\end{equation*}\n",
    "\n",
    "Wir wollen hier einmal ausprobieren dieses System numerisch zu lösen und nutzen dafür Python und den Löser ``fsolve}`` aus dem ``scipy``-Package:"
   ]
  },
  {
   "cell_type": "code",
   "execution_count": 1,
   "metadata": {},
   "outputs": [],
   "source": [
    "import numpy as np\n",
    "from scipy.optimize import fsolve"
   ]
  },
  {
   "cell_type": "code",
   "execution_count": 2,
   "metadata": {},
   "outputs": [],
   "source": [
    "S = np.array([[2000, 1800, 1500, 1600],\n",
    "              [2200, 1600, 1400, 1400],\n",
    "              [2500, 2000, 1700, 1600]])\n",
    "mu = 1"
   ]
  },
  {
   "cell_type": "code",
   "execution_count": 3,
   "metadata": {},
   "outputs": [],
   "source": [
    "# objective function\n",
    "def objective(chi):\n",
    "    chi1 = chi[:3]\n",
    "    chi2 = chi[3:]\n",
    "    \n",
    "    res1 = np.sum(chi2) - 1/chi1**2 * np.sum(S**2/chi2,axis=1)\n",
    "    res1[0] = chi1[0] - 1 # enforce chi11 = 1\n",
    "    res2 = np.sum(chi1) - 1/chi2**2 * np.sum(S.transpose()**2/chi1,axis=1)\n",
    "        \n",
    "    return np.concatenate((res1, res2))"
   ]
  },
  {
   "cell_type": "code",
   "execution_count": 4,
   "metadata": {},
   "outputs": [],
   "source": [
    "# inital values for fsolve algorithm\n",
    "chi1_init = np.ones(3)\n",
    "chi2_init = 1000 * np.ones(4)\n",
    "start = np.concatenate((chi1_init, chi2_init))"
   ]
  },
  {
   "cell_type": "code",
   "execution_count": 5,
   "metadata": {},
   "outputs": [],
   "source": [
    "def split(x,i=3):\n",
    "    return x[:i], x[i:]"
   ]
  },
  {
   "cell_type": "code",
   "execution_count": 6,
   "metadata": {},
   "outputs": [
    {
     "name": "stdout",
     "output_type": "stream",
     "text": [
      "The risk factors are given by \n",
      " chi1 =  [1.   0.96 1.13] \n",
      " chi2 =  [2175.59 1751.38 1491.35 1493.27]\n"
     ]
    }
   ],
   "source": [
    "# solve root-finding by fsolve\n",
    "root = fsolve(objective, start)\n",
    "\n",
    "chi1, chi2 = split(root)\n",
    "\n",
    "print(\"The risk factors are given by \\n chi1 = \", chi1.round(2), \"\\n chi2 = \", chi2.round(2))"
   ]
  },
  {
   "cell_type": "code",
   "execution_count": 7,
   "metadata": {},
   "outputs": [],
   "source": [
    "def calc_tariff(mu, chi1, chi2):\n",
    "    tariff = mu * chi1.reshape((-1,1)) @ chi2.reshape((1,-1))\n",
    "    print(\"Considering a multiplikative tariff structure we get \\n\", np.round(tariff,0))\n",
    "    return tariff"
   ]
  },
  {
   "cell_type": "code",
   "execution_count": 8,
   "metadata": {},
   "outputs": [
    {
     "name": "stdout",
     "output_type": "stream",
     "text": [
      "Considering a multiplikative tariff structure we get \n",
      " [[2176. 1751. 1491. 1493.]\n",
      " [2079. 1674. 1425. 1427.]\n",
      " [2456. 1977. 1684. 1686.]]\n"
     ]
    }
   ],
   "source": [
    "# tariff structure\n",
    "tariff_bs = calc_tariff(mu, chi1, chi2)"
   ]
  },
  {
   "cell_type": "markdown",
   "metadata": {},
   "source": [
    "## Bailey-Jung Methode\n",
    "\n",
    "Als nächstes probieren wir die Methode von Bailey und Jung. Dazu betrachten wir die Spalten- bzw. Zeilensummen\n",
    "\t\\begin{equation*}\n",
    "\t\t\\begin{aligned}\n",
    "\t\t\t\\sum_{j=1}^J v_{ij} \\mu \\chi_{1i} \\chi_{2j} &= \\sum_{j=1}^J S_{ij} \\\\\n",
    "\t\t\t\\sum_{i=1}^I v_{ij} \\mu \\chi_{1i} \\chi_{2j} &= \\sum_{i=1}^I S_{ij} . \\\\\n",
    "\t\t\\end{aligned}\n",
    "\t\\end{equation*}\n",
    "\tMit der Setzung $\\mu = 1$ und $v_{ij} = 1$ vereinfachen sich diese zu\n",
    "\t\\begin{equation*}\n",
    "\t\t\\begin{aligned}\n",
    "\t\t\t\\sum_{j=1}^J \\chi_{1i} \\chi_{2j} &= \\sum_{j=1}^J S_{ij} =: S_\\text{row} \\\\\n",
    "\t\t\t\\sum_{i=1}^I \\chi_{1i} \\chi_{2j} &= \\sum_{i=1}^I S_{ij} =: S_\\text{col} . \\\\\n",
    "\t\t\\end{aligned}\n",
    "\t\\end{equation*}\n",
    "\tSetzen wir erneut $\\chi_{11} = 1$ und lösen diese Gleichungen numerisch."
   ]
  },
  {
   "cell_type": "code",
   "execution_count": 9,
   "metadata": {},
   "outputs": [
    {
     "name": "stdout",
     "output_type": "stream",
     "text": [
      "The risk factors are given by \n",
      " chi1 =  [1.   0.96 1.13] \n",
      " chi2 =  [2175.59 1751.38 1491.35 1493.27]\n"
     ]
    }
   ],
   "source": [
    "def margsums(chi):\n",
    "    chi1 = chi[:3]\n",
    "    chi2 = chi[3:]\n",
    "    \n",
    "    S_row = np.sum(S, axis=1)\n",
    "    S_col = np.sum(S, axis=0)\n",
    "    \n",
    "    res1 = chi1 * np.sum(chi2) - S_row\n",
    "    res2 = chi2 * np.sum(chi1) - S_col\n",
    "    \n",
    "    return np.concatenate((res1, res2))\n",
    "\n",
    "# inital values for fsolve algorithm\n",
    "chi1_init = np.ones(3)\n",
    "chi2_init = 1000 * np.ones(4)\n",
    "start = np.concatenate((chi1_init, chi2_init))\n",
    "\n",
    "# solve root-finding by fsolve\n",
    "root_bj = fsolve(margsums, start)\n",
    "\n",
    "chi1_bj, chi2_bj = split(root)\n",
    "\n",
    "print(\"The risk factors are given by \\n chi1 = \", chi1.round(2), \"\\n chi2 = \", chi2.round(2))"
   ]
  },
  {
   "cell_type": "code",
   "execution_count": 10,
   "metadata": {},
   "outputs": [
    {
     "name": "stdout",
     "output_type": "stream",
     "text": [
      "Considering a multiplikative tariff structure we get \n",
      " [[2176. 1751. 1491. 1493.]\n",
      " [2079. 1674. 1425. 1427.]\n",
      " [2456. 1977. 1684. 1686.]]\n"
     ]
    }
   ],
   "source": [
    "tariff_bailey_jung = calc_tariff(mu, chi1_bj, chi2_bj)"
   ]
  },
  {
   "cell_type": "markdown",
   "metadata": {},
   "source": [
    "## Log-Normal-Approximation\n",
    "\n",
    "Abschließend wollen wir noch die log-Normal-Approximation testen. Dazu definieren wir wie in der Vorlesung $X_{ij} = \\log\\left( \\frac{S_{ij}}{v_{ij}} \\right) = \\log\\left(S_{ij} \\right) \\sim \\mathcal N(\\beta_0 + \\beta_{1i} + \\beta_{2j}, \\sigma^2)$. \n",
    "Wie üblich sei $M = I \\cdot J$ und $m := m(i,j) := (i-1)J + j$. "
   ]
  },
  {
   "cell_type": "code",
   "execution_count": 11,
   "metadata": {},
   "outputs": [],
   "source": [
    "I,J = np.shape(S)\n",
    "M = I * J\n",
    "m = lambda i,j: (i-1) * J + j"
   ]
  },
  {
   "cell_type": "markdown",
   "metadata": {},
   "source": [
    "Wir lesen die Daten aus $S$ neu ein, um mit dem ``pandas``-Paket automatisch die Langform der Kontingenztabelle zu erhalten."
   ]
  },
  {
   "cell_type": "code",
   "execution_count": 12,
   "metadata": {},
   "outputs": [],
   "source": [
    "import pandas as pd"
   ]
  },
  {
   "cell_type": "code",
   "execution_count": 13,
   "metadata": {},
   "outputs": [
    {
     "data": {
      "text/html": [
       "<div>\n",
       "<style scoped>\n",
       "    .dataframe tbody tr th:only-of-type {\n",
       "        vertical-align: middle;\n",
       "    }\n",
       "\n",
       "    .dataframe tbody tr th {\n",
       "        vertical-align: top;\n",
       "    }\n",
       "\n",
       "    .dataframe thead th {\n",
       "        text-align: right;\n",
       "    }\n",
       "</style>\n",
       "<table border=\"1\" class=\"dataframe\">\n",
       "  <thead>\n",
       "    <tr style=\"text-align: right;\">\n",
       "      <th></th>\n",
       "      <th>type</th>\n",
       "      <th>21-30y</th>\n",
       "      <th>31-40y</th>\n",
       "      <th>41-50y</th>\n",
       "      <th>51-60y</th>\n",
       "    </tr>\n",
       "  </thead>\n",
       "  <tbody>\n",
       "    <tr>\n",
       "      <th>0</th>\n",
       "      <td>passenger car</td>\n",
       "      <td>2000</td>\n",
       "      <td>1800</td>\n",
       "      <td>1500</td>\n",
       "      <td>1600</td>\n",
       "    </tr>\n",
       "    <tr>\n",
       "      <th>1</th>\n",
       "      <td>delivery van</td>\n",
       "      <td>2200</td>\n",
       "      <td>1600</td>\n",
       "      <td>1400</td>\n",
       "      <td>1400</td>\n",
       "    </tr>\n",
       "    <tr>\n",
       "      <th>2</th>\n",
       "      <td>truck</td>\n",
       "      <td>2500</td>\n",
       "      <td>2000</td>\n",
       "      <td>1700</td>\n",
       "      <td>1600</td>\n",
       "    </tr>\n",
       "  </tbody>\n",
       "</table>\n",
       "</div>"
      ],
      "text/plain": [
       "            type  21-30y  31-40y  41-50y  51-60y\n",
       "0  passenger car    2000    1800    1500    1600\n",
       "1   delivery van    2200    1600    1400    1400\n",
       "2          truck    2500    2000    1700    1600"
      ]
     },
     "execution_count": 13,
     "metadata": {},
     "output_type": "execute_result"
    }
   ],
   "source": [
    "S_data = pd.DataFrame({'type': ['passenger car', 'delivery van', 'truck'], '21-30y': [2000,2200,2500], '31-40y': [1800, 1600, 2000], '41-50y': [1500, 1400, 1700], '51-60y': [1600, 1400, 1600]})\n",
    "S_data"
   ]
  },
  {
   "cell_type": "code",
   "execution_count": 14,
   "metadata": {},
   "outputs": [
    {
     "data": {
      "text/html": [
       "<div>\n",
       "<style scoped>\n",
       "    .dataframe tbody tr th:only-of-type {\n",
       "        vertical-align: middle;\n",
       "    }\n",
       "\n",
       "    .dataframe tbody tr th {\n",
       "        vertical-align: top;\n",
       "    }\n",
       "\n",
       "    .dataframe thead th {\n",
       "        text-align: right;\n",
       "    }\n",
       "</style>\n",
       "<table border=\"1\" class=\"dataframe\">\n",
       "  <thead>\n",
       "    <tr style=\"text-align: right;\">\n",
       "      <th></th>\n",
       "      <th>type</th>\n",
       "      <th>variable</th>\n",
       "      <th>value</th>\n",
       "    </tr>\n",
       "  </thead>\n",
       "  <tbody>\n",
       "    <tr>\n",
       "      <th>0</th>\n",
       "      <td>passenger car</td>\n",
       "      <td>21-30y</td>\n",
       "      <td>2000</td>\n",
       "    </tr>\n",
       "    <tr>\n",
       "      <th>1</th>\n",
       "      <td>delivery van</td>\n",
       "      <td>21-30y</td>\n",
       "      <td>2200</td>\n",
       "    </tr>\n",
       "    <tr>\n",
       "      <th>2</th>\n",
       "      <td>truck</td>\n",
       "      <td>21-30y</td>\n",
       "      <td>2500</td>\n",
       "    </tr>\n",
       "    <tr>\n",
       "      <th>3</th>\n",
       "      <td>passenger car</td>\n",
       "      <td>31-40y</td>\n",
       "      <td>1800</td>\n",
       "    </tr>\n",
       "    <tr>\n",
       "      <th>4</th>\n",
       "      <td>delivery van</td>\n",
       "      <td>31-40y</td>\n",
       "      <td>1600</td>\n",
       "    </tr>\n",
       "    <tr>\n",
       "      <th>5</th>\n",
       "      <td>truck</td>\n",
       "      <td>31-40y</td>\n",
       "      <td>2000</td>\n",
       "    </tr>\n",
       "    <tr>\n",
       "      <th>6</th>\n",
       "      <td>passenger car</td>\n",
       "      <td>41-50y</td>\n",
       "      <td>1500</td>\n",
       "    </tr>\n",
       "    <tr>\n",
       "      <th>7</th>\n",
       "      <td>delivery van</td>\n",
       "      <td>41-50y</td>\n",
       "      <td>1400</td>\n",
       "    </tr>\n",
       "    <tr>\n",
       "      <th>8</th>\n",
       "      <td>truck</td>\n",
       "      <td>41-50y</td>\n",
       "      <td>1700</td>\n",
       "    </tr>\n",
       "    <tr>\n",
       "      <th>9</th>\n",
       "      <td>passenger car</td>\n",
       "      <td>51-60y</td>\n",
       "      <td>1600</td>\n",
       "    </tr>\n",
       "    <tr>\n",
       "      <th>10</th>\n",
       "      <td>delivery van</td>\n",
       "      <td>51-60y</td>\n",
       "      <td>1400</td>\n",
       "    </tr>\n",
       "    <tr>\n",
       "      <th>11</th>\n",
       "      <td>truck</td>\n",
       "      <td>51-60y</td>\n",
       "      <td>1600</td>\n",
       "    </tr>\n",
       "  </tbody>\n",
       "</table>\n",
       "</div>"
      ],
      "text/plain": [
       "             type variable  value\n",
       "0   passenger car   21-30y   2000\n",
       "1    delivery van   21-30y   2200\n",
       "2           truck   21-30y   2500\n",
       "3   passenger car   31-40y   1800\n",
       "4    delivery van   31-40y   1600\n",
       "5           truck   31-40y   2000\n",
       "6   passenger car   41-50y   1500\n",
       "7    delivery van   41-50y   1400\n",
       "8           truck   41-50y   1700\n",
       "9   passenger car   51-60y   1600\n",
       "10   delivery van   51-60y   1400\n",
       "11          truck   51-60y   1600"
      ]
     },
     "execution_count": 14,
     "metadata": {},
     "output_type": "execute_result"
    }
   ],
   "source": [
    "Z_twiddle_df = S_data.melt(id_vars=\"type\")\n",
    "Z_twiddle_df"
   ]
  },
  {
   "cell_type": "code",
   "execution_count": 15,
   "metadata": {},
   "outputs": [
    {
     "data": {
      "text/plain": [
       "array([['passenger car', '21-30y', 2000],\n",
       "       ['delivery van', '21-30y', 2200],\n",
       "       ['truck', '21-30y', 2500],\n",
       "       ['passenger car', '31-40y', 1800],\n",
       "       ['delivery van', '31-40y', 1600],\n",
       "       ['truck', '31-40y', 2000],\n",
       "       ['passenger car', '41-50y', 1500],\n",
       "       ['delivery van', '41-50y', 1400],\n",
       "       ['truck', '41-50y', 1700],\n",
       "       ['passenger car', '51-60y', 1600],\n",
       "       ['delivery van', '51-60y', 1400],\n",
       "       ['truck', '51-60y', 1600]], dtype=object)"
      ]
     },
     "execution_count": 15,
     "metadata": {},
     "output_type": "execute_result"
    }
   ],
   "source": [
    "Z_twiddle = Z_twiddle_df.to_numpy()\n",
    "Z_twiddle"
   ]
  },
  {
   "cell_type": "markdown",
   "metadata": {},
   "source": [
    "Wir konvertieren nun diese Tabelle in die aus der Vorlesung bekannte Langform und erhalten eine Matrix $\\tilde Z$. Außerdem erhalten wir den Vektor $\\mathbf X = S_{ij}$."
   ]
  },
  {
   "cell_type": "code",
   "execution_count": 16,
   "metadata": {},
   "outputs": [],
   "source": [
    "X = np.log(Z_twiddle[:,-1].astype(float))"
   ]
  },
  {
   "cell_type": "code",
   "execution_count": 17,
   "metadata": {},
   "outputs": [],
   "source": [
    "veh_type = Z_twiddle[:, 0]\n",
    "veh_type_bin = np.zeros((M,3))\n",
    "vehicles = ['passenger car', 'delivery van', 'truck']\n",
    "for vehicle in vehicles:\n",
    "    veh_type_bin[:,vehicles.index(vehicle)][veh_type == vehicle] = 1"
   ]
  },
  {
   "cell_type": "code",
   "execution_count": 18,
   "metadata": {},
   "outputs": [],
   "source": [
    "age_group = Z_twiddle[:, 1]\n",
    "age_group_bin = np.zeros((M,4))\n",
    "ages = ['21-30y', '31-40y', '41-50y', '51-60y']\n",
    "for age in ages:\n",
    "    age_group_bin[:,ages.index(age)][age_group == age] = 1"
   ]
  },
  {
   "cell_type": "code",
   "execution_count": 19,
   "metadata": {},
   "outputs": [
    {
     "name": "stdout",
     "output_type": "stream",
     "text": [
      "Ztwiddle = \n",
      " [[1. 0. 0. 1. 0. 0. 0.]\n",
      " [0. 1. 0. 1. 0. 0. 0.]\n",
      " [0. 0. 1. 1. 0. 0. 0.]\n",
      " [1. 0. 0. 0. 1. 0. 0.]\n",
      " [0. 1. 0. 0. 1. 0. 0.]\n",
      " [0. 0. 1. 0. 1. 0. 0.]\n",
      " [1. 0. 0. 0. 0. 1. 0.]\n",
      " [0. 1. 0. 0. 0. 1. 0.]\n",
      " [0. 0. 1. 0. 0. 1. 0.]\n",
      " [1. 0. 0. 0. 0. 0. 1.]\n",
      " [0. 1. 0. 0. 0. 0. 1.]\n",
      " [0. 0. 1. 0. 0. 0. 1.]]\n"
     ]
    }
   ],
   "source": [
    "Z_twiddle_bin = np.concatenate((veh_type_bin, age_group_bin), axis=1)\n",
    "print(\"Ztwiddle = \\n\", Z_twiddle_bin)"
   ]
  },
  {
   "cell_type": "markdown",
   "metadata": {},
   "source": [
    "Die Matrix $\\tilde Z$ hat nicht vollen Rang."
   ]
  },
  {
   "cell_type": "code",
   "execution_count": 20,
   "metadata": {},
   "outputs": [
    {
     "data": {
      "text/plain": [
       "6"
      ]
     },
     "execution_count": 20,
     "metadata": {},
     "output_type": "execute_result"
    }
   ],
   "source": [
    "np.linalg.matrix_rank(Z_twiddle_bin)"
   ]
  },
  {
   "cell_type": "markdown",
   "metadata": {},
   "source": []
  },
  {
   "cell_type": "markdown",
   "metadata": {},
   "source": [
    "Wir setzen $\\beta_{11} = \\beta_{21} = 0$. Dazu fügen wir eine 1-Spalte zu Beginn ein und streichen jeweils die erste Spalte jedes Kovariats. Dies liefert uns die Matrix $Z$."
   ]
  },
  {
   "cell_type": "code",
   "execution_count": 21,
   "metadata": {},
   "outputs": [
    {
     "name": "stdout",
     "output_type": "stream",
     "text": [
      "Z = \n",
      " [[1. 0. 0. 0. 0. 0.]\n",
      " [1. 1. 0. 0. 0. 0.]\n",
      " [1. 0. 1. 0. 0. 0.]\n",
      " [1. 0. 0. 1. 0. 0.]\n",
      " [1. 1. 0. 1. 0. 0.]\n",
      " [1. 0. 1. 1. 0. 0.]\n",
      " [1. 0. 0. 0. 1. 0.]\n",
      " [1. 1. 0. 0. 1. 0.]\n",
      " [1. 0. 1. 0. 1. 0.]\n",
      " [1. 0. 0. 0. 0. 1.]\n",
      " [1. 1. 0. 0. 0. 1.]\n",
      " [1. 0. 1. 0. 0. 1.]]\n"
     ]
    }
   ],
   "source": [
    "Z = Z_twiddle_bin.copy()\n",
    "Z[:,0] = np.ones(M)\n",
    "Z = np.delete(Z,I,1)\n",
    "print(\"Z = \\n\", Z)"
   ]
  },
  {
   "cell_type": "markdown",
   "metadata": {},
   "source": [
    "Die Matrix $Z$ hat nun vollen Rang."
   ]
  },
  {
   "cell_type": "code",
   "execution_count": 22,
   "metadata": {},
   "outputs": [
    {
     "data": {
      "text/plain": [
       "6"
      ]
     },
     "execution_count": 22,
     "metadata": {},
     "output_type": "execute_result"
    }
   ],
   "source": [
    "np.linalg.matrix_rank(Z)"
   ]
  },
  {
   "cell_type": "markdown",
   "metadata": {},
   "source": [
    "Damit können wir nun den Maximum-Likelihood-Estimator $\\hat\\beta$ angeben.\n",
    "Gemäß Vorlesung ist Maximum-Likelihood-Estimator $\\hat\\beta^{\\text{MLE}}$ gegeben durch\n",
    "\\begin{equation*}\n",
    "    \\hat\\beta^{\\text{MLE}} = \\left( Z^\\top Z \\right)^{-1} Z^\\top \\mathbf{X} .\n",
    "\\end{equation*}\n",
    "Man beachte, dass die Einträge $\\beta_{11} = \\beta_1$ und $\\beta_{21} = \\beta_5$ durch deren Setzung auf Null nicht enthalten sind."
   ]
  },
  {
   "cell_type": "code",
   "execution_count": 23,
   "metadata": {},
   "outputs": [
    {
     "name": "stdout",
     "output_type": "stream",
     "text": [
      "[ 7.69 -0.06  0.11 -0.22 -0.38 -0.37]\n"
     ]
    }
   ],
   "source": [
    "beta = np.linalg.inv(Z.T @ Z) @ Z.T @ X\n",
    "print(np.round(beta,2))"
   ]
  },
  {
   "cell_type": "markdown",
   "metadata": {},
   "source": [
    "Somit erhalten wir die Schätzer\n",
    "\\begin{equation*}\n",
    "    \\begin{aligned}\n",
    "        \\beta_0 &= 7.69 \\\\\n",
    "        \\beta_{11} &= 0 & \\beta_{12} &= -0.06 & \\beta_{13} &= 0.11 \\\\\n",
    "        \\beta_{21} &= 0 & \\beta_{22} &= -0.22 & \\beta_{23} &= -0.38 & \\beta_{24} &= -0.37 \\\\\n",
    "    \\end{aligned}\n",
    "\\end{equation*}"
   ]
  },
  {
   "cell_type": "code",
   "execution_count": 24,
   "metadata": {},
   "outputs": [
    {
     "name": "stdout",
     "output_type": "stream",
     "text": [
      "[ 7.68799786  0.         -0.05624928  0.1134168   0.         -0.2156526\n",
      " -0.37510989 -0.37380526]\n"
     ]
    }
   ],
   "source": [
    "beta = np.insert(beta, 1, 0)\n",
    "beta = np.insert(beta, I+1, 0)\n",
    "print(beta)"
   ]
  },
  {
   "cell_type": "markdown",
   "metadata": {},
   "source": [
    "Daraus können wir nun wieder die Risikofaktoren $\\chi$ berechnen, nämlich durch $\\chi_{ij} = e^{\\beta_{ij}}$ und $\\mu = \\beta_0$."
   ]
  },
  {
   "cell_type": "code",
   "execution_count": 25,
   "metadata": {},
   "outputs": [
    {
     "name": "stdout",
     "output_type": "stream",
     "text": [
      "mu =  2182.0 \n",
      "chi1 =  [1.   0.95 1.12] \n",
      "chi2 =  [1.12 1.   0.81 0.69 0.69]\n"
     ]
    }
   ],
   "source": [
    "mu = np.exp(beta)[0]\n",
    "chi1_lognormal = np.exp(beta)[1:I+1]\n",
    "chi2_lognormal = np.exp(beta)[I:]\n",
    "\n",
    "print(\"mu = \", np.round(mu,2), \"\\nchi1 = \", np.round(chi1_lognormal,2), \"\\nchi2 = \", np.round(chi2_lognormal,2))"
   ]
  },
  {
   "cell_type": "markdown",
   "metadata": {},
   "source": [
    "Berechnen wir damit die Tarife, so erhalten wir folgendes Resultat:"
   ]
  },
  {
   "cell_type": "code",
   "execution_count": 26,
   "metadata": {},
   "outputs": [
    {
     "name": "stdout",
     "output_type": "stream",
     "text": [
      "Considering a multiplikative tariff structure we get \n",
      " [[2444. 2182. 1759. 1500. 1501.]\n",
      " [2310. 2063. 1663. 1417. 1419.]\n",
      " [2738. 2444. 1970. 1680. 1682.]]\n"
     ]
    }
   ],
   "source": [
    "tariff_lognormal = calc_tariff(mu, chi1_lognormal, chi2_lognormal)"
   ]
  }
 ],
 "metadata": {
  "kernelspec": {
   "display_name": "Python 3",
   "language": "python",
   "name": "python3"
  },
  "language_info": {
   "codemirror_mode": {
    "name": "ipython",
    "version": 3
   },
   "file_extension": ".py",
   "mimetype": "text/x-python",
   "name": "python",
   "nbconvert_exporter": "python",
   "pygments_lexer": "ipython3",
   "version": "3.8.5"
  }
 },
 "nbformat": 4,
 "nbformat_minor": 5
}
